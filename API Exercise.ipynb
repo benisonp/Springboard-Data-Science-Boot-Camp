{
 "cells": [
  {
   "cell_type": "code",
   "execution_count": 16,
   "metadata": {},
   "outputs": [],
   "source": [
    "API_KEY = '8fqJJc8UR1fAPo2xwEmA'"
   ]
  },
  {
   "cell_type": "code",
   "execution_count": 147,
   "metadata": {},
   "outputs": [],
   "source": [
    "# First, import the relevant modules\n",
    "import requests\n",
    "import collections"
   ]
  },
  {
   "cell_type": "code",
   "execution_count": 148,
   "metadata": {},
   "outputs": [],
   "source": [
    "# Now, call the Quandl API and pull out a small sample of the data (only one day) to get a glimpse\n",
    "# into the JSON structure that will be returned\n",
    "r = requests.get(\"https://www.quandl.com/api/v3/datasets/FSE/AFX_X/data.json?limit=1&api_key=8fqJJc8UR1fAPo2xwEmA\")\n"
   ]
  },
  {
   "cell_type": "code",
   "execution_count": 149,
   "metadata": {},
   "outputs": [
    {
     "name": "stdout",
     "output_type": "stream",
     "text": [
      "dict_keys(['limit', 'transform', 'column_index', 'column_names', 'start_date', 'end_date', 'frequency', 'data', 'collapse', 'order'])\n",
      "{'dataset_data': {'limit': 1, 'transform': None, 'column_index': None, 'column_names': ['Date', 'Open', 'High', 'Low', 'Close', 'Change', 'Traded Volume', 'Turnover', 'Last Price of the Day', 'Daily Traded Units', 'Daily Turnover'], 'start_date': '2000-06-07', 'end_date': '2019-05-14', 'frequency': 'daily', 'data': [['2019-05-14', None, 87.1, 83.8, 86.0, None, 297843.0, 25587237.0, None, None, None]], 'collapse': None, 'order': None}}\n"
     ]
    }
   ],
   "source": [
    "# Inspect the JSON structure of the object you created, and take note of how nested it is,\n",
    "# as well as the overall structure\n",
    "\n",
    "print(r.json()['dataset_data'].keys()) # Looking at the keys of the dataset\n",
    "print(r.json()) # Assessing overall structure"
   ]
  },
  {
   "cell_type": "code",
   "execution_count": 157,
   "metadata": {},
   "outputs": [],
   "source": [
    "#Collect data from the Franfurt Stock Exchange, for the ticker AFX_X, for the whole year 2017\n",
    "r = requests.get(\"https://www.quandl.com/api/v3/datasets/FSE/AFX_X/data.json?start_date=2017-01-01&end_date=2017-12-31&api_key=8fqJJc8UR1fAPo2xwEmA\")"
   ]
  },
  {
   "cell_type": "code",
   "execution_count": 158,
   "metadata": {},
   "outputs": [],
   "source": [
    "#Convert the returned JSON object into a Python dictionary.\n",
    "json_data = r.json()"
   ]
  },
  {
   "cell_type": "code",
   "execution_count": 152,
   "metadata": {},
   "outputs": [
    {
     "name": "stdout",
     "output_type": "stream",
     "text": [
      "The highest opening price was: 53.11\n",
      "The lowest opening price was: 34.0\n"
     ]
    }
   ],
   "source": [
    "#Calculate what the highest and lowest opening prices were for the stock in this period.\n",
    "opening_prices = [date[1] for date in json_data['dataset_data']['data'] if date[1] != None] # List Comprehension for all\n",
    "print(\"The highest opening price was:\", max(opening_prices))\n",
    "print(\"The lowest opening price was:\", min(opening_prices))"
   ]
  },
  {
   "cell_type": "code",
   "execution_count": 153,
   "metadata": {},
   "outputs": [
    {
     "name": "stdout",
     "output_type": "stream",
     "text": [
      "The largest change in any one day =  2.8100000000000023\n"
     ]
    }
   ],
   "source": [
    "#4. What was the largest change in any one day (based on High and Low price)?\n",
    "one_day_change = [date[2]-date[3] for date in json_data['dataset_data']['data']] #List comprehension to create a list of single-day chances\n",
    "print(\"The largest change in any one day = \", max(one_day_change))"
   ]
  },
  {
   "cell_type": "code",
   "execution_count": 154,
   "metadata": {},
   "outputs": [
    {
     "name": "stdout",
     "output_type": "stream",
     "text": [
      "The largest change between any two days was: 2.559999999999995\n"
     ]
    }
   ],
   "source": [
    "# 5.What was the largest change between any two days (based on Closing Price)?\n",
    "closing_prices = [date[4] for date in json_data['dataset_data']['data']] #List comprehension to create a list of closing prices\n",
    "two_day_change = []\n",
    "for i in range(0, len(closing_prices)):\n",
    "    try:\n",
    "        two_day_change.append(closing_prices[i] - closing_prices[i+1])\n",
    "    except IndexError: # Catching the inevitable index error from the loop\n",
    "        break\n",
    "absolute_two_day_change = [abs(num) for num in two_day_change]\n",
    "print(\"The largest change between any two days was:\", max(absolute_two_day_change))"
   ]
  },
  {
   "cell_type": "code",
   "execution_count": 155,
   "metadata": {},
   "outputs": [
    {
     "name": "stdout",
     "output_type": "stream",
     "text": [
      "The average daily trading volume was:  89124.33725490196 units\n"
     ]
    }
   ],
   "source": [
    "# 6.What was the average daily trading volume during this year?\n",
    "daily_volume = [date[6] for date in json_data['dataset_data']['data']]\n",
    "mean_volume = sum(daily_volume)/len(daily_volume)\n",
    "print(\"The average daily trading volume was: \", mean_volume, \"units\")"
   ]
  },
  {
   "cell_type": "code",
   "execution_count": 156,
   "metadata": {},
   "outputs": [
    {
     "name": "stdout",
     "output_type": "stream",
     "text": [
      "Median trading volume was: 76286.0 Units\n"
     ]
    }
   ],
   "source": [
    "# 7.What was the median trading volume during this year.\n",
    "def median_func(values):\n",
    "    values.sort() #Sorts values provided\n",
    "    median_index = len(values)/2 #The median index should be in the middle\n",
    "    if len(values)%2 == 0: #For lists of even length\n",
    "        return sum(values[median_index], values[median_index+1])/2 \n",
    "    else:\n",
    "        return values[round(median_index) - 1] #For lists of odd length; equation is to ensure the middle value is chosen\n",
    "    \n",
    "print(\"Median trading volume was:\", median_func(daily_volume), \"Units\")"
   ]
  },
  {
   "cell_type": "code",
   "execution_count": 163,
   "metadata": {},
   "outputs": [],
   "source": [
    "daily_copy = daily_volume.copy()"
   ]
  },
  {
   "cell_type": "code",
   "execution_count": null,
   "metadata": {},
   "outputs": [],
   "source": []
  }
 ],
 "metadata": {
  "kernelspec": {
   "display_name": "Python 3",
   "language": "python",
   "name": "python3"
  },
  "language_info": {
   "codemirror_mode": {
    "name": "ipython",
    "version": 3
   },
   "file_extension": ".py",
   "mimetype": "text/x-python",
   "name": "python",
   "nbconvert_exporter": "python",
   "pygments_lexer": "ipython3",
   "version": "3.7.1"
  }
 },
 "nbformat": 4,
 "nbformat_minor": 2
}
