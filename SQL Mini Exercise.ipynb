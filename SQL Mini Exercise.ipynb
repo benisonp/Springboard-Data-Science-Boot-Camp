{
 "cells": [
  {
   "cell_type": "code",
   "execution_count": 219,
   "metadata": {},
   "outputs": [],
   "source": [
    "import mysql.connector\n",
    "import pandas as pd"
   ]
  },
  {
   "cell_type": "code",
   "execution_count": 221,
   "metadata": {},
   "outputs": [],
   "source": [
    "# Connection to database\n",
    "mydb = mysql.connector.connect(\n",
    "  host = \"127.0.0.1\",\n",
    "  user = \"root\",\n",
    "  passwd = \"\",\n",
    "  database ='newschema'\n",
    ")\n",
    "mycursor = mydb.cursor()"
   ]
  },
  {
   "cell_type": "code",
   "execution_count": 222,
   "metadata": {},
   "outputs": [
    {
     "name": "stdout",
     "output_type": "stream",
     "text": [
      "The facilities that are free for members are:\n",
      "Badminton Court\n",
      "Table Tennis\n",
      "Snooker Table\n",
      "Pool Table\n"
     ]
    }
   ],
   "source": [
    "#Q1: Some of the facilities charge a fee to members, but some do not. Please list the names of the facilities that do\n",
    "\n",
    "mycursor.execute(\"SELECT name FROM Facilities WHERE membercost = 0\")\n",
    "                 \n",
    "q1_result = mycursor.fetchall()\n",
    "free_facilities = [] #Initializing empty list\n",
    "for row in q1_result:\n",
    "  free_facilities.append(row[0])\n",
    "print(\"The facilities that are free for members are:\")\n",
    "print(*free_facilities, sep = '\\n')"
   ]
  },
  {
   "cell_type": "code",
   "execution_count": 223,
   "metadata": {},
   "outputs": [
    {
     "name": "stdout",
     "output_type": "stream",
     "text": [
      "4 facilities do not charge a fee for members\n"
     ]
    }
   ],
   "source": [
    "#Q2: How many facilities do not charge a fee to members?\n",
    "mycursor.execute(\"SELECT COUNT(*) FROM Facilities WHERE membercost = 0\")\n",
    "                 \n",
    "q2_result = mycursor.fetchall()\n",
    "free_facilities = [] #Initializing empty list\n",
    "for row in q2_result:\n",
    "  free_facilities.append(row[0])\n",
    "print(*free_facilities, \"facilities do not charge a fee for members\", )"
   ]
  },
  {
   "cell_type": "code",
   "execution_count": 224,
   "metadata": {},
   "outputs": [
    {
     "name": "stdout",
     "output_type": "stream",
     "text": [
      "The facilities are:\n",
      "Tennis Court 1\n",
      "Tennis Court 2\n",
      "Massage Room 1\n",
      "Massage Room 2\n",
      "Squash Court\n"
     ]
    }
   ],
   "source": [
    "# Q3: How can you produce a list of facilities that charge a fee to members, where the fee is less than 20% of the facility's monthly maintenance cost?\n",
    "# Return the facid, facility name, member cost, and monthly maintenance of the facilities in question.  \n",
    "mycursor.execute(\"SELECT facid, name, membercost, monthlymaintenance FROM Facilities WHERE membercost > 0 AND membercost < (monthlymaintenance * 0.2)\")\n",
    "q3_result = mycursor.fetchall()\n",
    "\n",
    "facilities_list = []\n",
    "for row in q3_result:\n",
    "    facilities_list.append(row[1])\n",
    "    \n",
    "print(\"The facilities are:\")\n",
    "print(*facilities_list, sep='\\n')"
   ]
  },
  {
   "cell_type": "code",
   "execution_count": 227,
   "metadata": {},
   "outputs": [
    {
     "name": "stdout",
     "output_type": "stream",
     "text": [
      "   ID            Name membercost guestcost  initialoutlay  monthlymaintenance\n",
      "0   1  Tennis Court 2        5.0      25.0           8000                 200\n",
      "1   5  Massage Room 2        9.9      80.0           4000                3000\n"
     ]
    }
   ],
   "source": [
    "# Q4: How can you retrieve the details of facilities with ID 1 and 5? Write the query without using the OR operator.\n",
    "mycursor.execute(\"SELECT * FROM Facilities WHERE facid in (1,5)\")\n",
    "q4_result = mycursor.fetchall()\n",
    "\n",
    "facilities_1_and_5 = []\n",
    "for row in q4_result:\n",
    "    facilities_1_and_5.append(row[1])\n",
    "\n",
    "df_fac_1_and_5 = pd.DataFrame(q4_result, columns = ['ID', 'Name', 'membercost', 'guestcost', 'initialoutlay', 'monthlymaintenance' ])\n",
    "print(df_fac_1_and_5)"
   ]
  },
  {
   "cell_type": "code",
   "execution_count": 228,
   "metadata": {},
   "outputs": [
    {
     "name": "stdout",
     "output_type": "stream",
     "text": [
      "       Label             Name  Monthly Maintenance\n",
      "0  expensive   Tennis Court 1                  200\n",
      "1  expensive   Tennis Court 2                  200\n",
      "2      cheap  Badminton Court                   50\n",
      "3      cheap     Table Tennis                   10\n",
      "4  expensive   Massage Room 1                 3000\n",
      "5  expensive   Massage Room 2                 3000\n",
      "6      cheap     Squash Court                   80\n",
      "7      cheap    Snooker Table                   15\n",
      "8      cheap       Pool Table                   15\n"
     ]
    }
   ],
   "source": [
    "# Q5: How can you produce a list of facilities, with each labelled as 'cheap' or 'expensive', depending on if their \n",
    "# monthly maintenance cost is more than $100? Return the name and monthly maintenance of the facilities in question.\n",
    "mycursor.execute(\"SELECT CASE WHEN monthlymaintenance >100 THEN  'expensive' ELSE  'cheap' END AS cost_category, name, monthlymaintenance FROM Facilities\")\n",
    "q5_result = mycursor.fetchall()\n",
    "\n",
    "df_cheap_or_expensive = pd.DataFrame(q5_result, columns = ['Label', 'Name', 'Monthly Maintenance'])\n",
    "print(df_cheap_or_expensive)\n"
   ]
  },
  {
   "cell_type": "code",
   "execution_count": 229,
   "metadata": {},
   "outputs": [
    {
     "name": "stdout",
     "output_type": "stream",
     "text": [
      "First name: Darren\n",
      "Last name: Smith\n"
     ]
    }
   ],
   "source": [
    "#Q6: You'd like to get the first and last name of the last member(s) who signed up. Do not use the LIMIT clause for your solution.\n",
    "q6_cursor = mydb.cursor()\n",
    "q6_cursor.execute(\"SELECT firstname, surname FROM Members WHERE joindate = (SELECT MAX( joindate ) FROM Members )\")\n",
    "q6_result = q6_cursor.fetchall()\n",
    "print(\"First name:\", q6_result[0][0])\n",
    "print(\"Last name:\", q6_result[0][1])"
   ]
  },
  {
   "cell_type": "code",
   "execution_count": 231,
   "metadata": {},
   "outputs": [
    {
     "name": "stdout",
     "output_type": "stream",
     "text": [
      "Anne Baker\n",
      "Burton Tracy\n",
      "Charles Owen\n",
      "Darren Smith\n",
      "David Farrell\n",
      "David Jones\n",
      "David Pinker\n",
      "Douglas Jones\n",
      "Erica Crumpet\n",
      "Florence Bader\n",
      "Gerald Butters\n",
      "GUEST GUEST\n",
      "Henrietta Rumney\n",
      "Jack Smith\n",
      "Janice Joplette\n",
      "Jemima Farrell\n",
      "Joan Coplin\n",
      "John Hunt\n",
      "Matthew Genting\n",
      "Millicent Purview\n",
      "Nancy Dare\n",
      "Ponder Stibbons\n",
      "Ramnaresh Sarwin\n",
      "Tim Boothe\n",
      "Tim Rownam\n",
      "Timothy Baker\n",
      "Tracy Smith\n"
     ]
    }
   ],
   "source": [
    "# Q7: How can you produce a list of all members who have used a tennis court? Include in your output the name of the \n",
    "# court, and the name of the member formatted as a single column. Ensure no duplicate data, and order by \n",
    "# the member name.\n",
    "q7_cursor = mydb.cursor()\n",
    "q7_cursor.execute(\"SELECT DISTINCT concat(m.firstname, ' ', m.surname) as fullname FROM Facilities AS f LEFT JOIN Bookings as b ON f.facid = b.facid INNER JOIN Members as m ON m.memid = b.memid WHERE f.facid in (0, 1) ORDER BY fullname\")\n",
    "q7_result = q7_cursor.fetchall()\n",
    "\n",
    "for name in q7_result:\n",
    "    print(name[0])"
   ]
  },
  {
   "cell_type": "code",
   "execution_count": 233,
   "metadata": {},
   "outputs": [
    {
     "name": "stdout",
     "output_type": "stream",
     "text": [
      "          Facility            Name   Cost\n",
      "0   Massage Room 2     GUEST GUEST  320.0\n",
      "1   Massage Room 1     GUEST GUEST  160.0\n",
      "2   Massage Room 1     GUEST GUEST  160.0\n",
      "3   Massage Room 1     GUEST GUEST  160.0\n",
      "4   Tennis Court 2     GUEST GUEST  150.0\n",
      "5   Tennis Court 1     GUEST GUEST   75.0\n",
      "6   Tennis Court 2     GUEST GUEST   75.0\n",
      "7   Tennis Court 1     GUEST GUEST   75.0\n",
      "8     Squash Court     GUEST GUEST   70.0\n",
      "9   Massage Room 1  Jemima Farrell   39.6\n",
      "10    Squash Court     GUEST GUEST   35.0\n",
      "11    Squash Court     GUEST GUEST   35.0\n"
     ]
    }
   ],
   "source": [
    "# Q8: How can you produce a list of bookings on the day of 2012-09-14 which\n",
    "# will cost the member (or guest) more than $30? Remember that guests have\n",
    "# different costs to members (the listed costs are per half-hour 'slot'), and\n",
    "# the guest user's ID is always 0. Include in your output the name of the\n",
    "# facility, the name of the member formatted as a single column, and the cost.\n",
    "# Order by descending cost, and do not use any subqueries.\n",
    "q8_cursor = mydb.cursor()\n",
    "q8_cursor.execute(\"SELECT f.name, concat(m.firstname, ' ', m.surname) as fulllname,(CASE WHEN b.memid >0 THEN b.slots * f.membercost ELSE b.slots * f.guestcost END) AS guest_or_member_cost FROM Facilities as f LEFT JOIN Bookings as b on b.facid = f.facid INNER JOIN Members as m on m.memid = b.memid WHERE b.starttime >= '2012-09-14 00:00:00' AND b.starttime <= '2012-09-14 23:59:59' HAVING guest_or_member_cost >30 ORDER BY guest_or_member_cost DESC\")\n",
    "q8_result = q8_cursor.fetchall()\n",
    "q8_df = pd.DataFrame(q8_result, columns = ['Facility', 'Name', 'Cost'])\n",
    "print(q8_df)"
   ]
  },
  {
   "cell_type": "code",
   "execution_count": 234,
   "metadata": {},
   "outputs": [
    {
     "name": "stdout",
     "output_type": "stream",
     "text": [
      "          Facility            Name   Cost\n",
      "0   Massage Room 2     GUEST GUEST  320.0\n",
      "1   Massage Room 1     GUEST GUEST  160.0\n",
      "2   Massage Room 1     GUEST GUEST  160.0\n",
      "3   Massage Room 1     GUEST GUEST  160.0\n",
      "4   Tennis Court 2     GUEST GUEST  150.0\n",
      "5   Tennis Court 1     GUEST GUEST   75.0\n",
      "6   Tennis Court 2     GUEST GUEST   75.0\n",
      "7   Tennis Court 1     GUEST GUEST   75.0\n",
      "8     Squash Court     GUEST GUEST   70.0\n",
      "9   Massage Room 1  Jemima Farrell   39.6\n",
      "10    Squash Court     GUEST GUEST   35.0\n",
      "11    Squash Court     GUEST GUEST   35.0\n"
     ]
    }
   ],
   "source": [
    "# Q9: This time, produce the same result as in Q8, but using a subquery.\n",
    "q9_cursor = mydb.cursor()\n",
    "q9_cursor.execute(\"SELECT sub1.name, concat(m.firstname, ' ', m.surname) as fulllname, (CASE WHEN b.memid >0 THEN b.slots * sub1.membercost ELSE b.slots * sub1.guestcost END) AS guest_or_member_cost FROM (SELECT name, facid, membercost, guestcost FROM Facilities) AS sub1 LEFT JOIN Bookings AS b on b.facid = sub1.facid INNER JOIN Members as m on m.memid = b.memid WHERE b.starttime >= '2012-09-14 00:00:00' AND b.starttime <= '2012-09-14 23:59:59' HAVING guest_or_member_cost >30 ORDER BY guest_or_member_cost DESC\")\n",
    "q9_result = q9_cursor.fetchall()\n",
    "q9_df = pd.DataFrame(q9_result, columns = ['Facility', 'Name', 'Cost'])\n",
    "print(q9_df)"
   ]
  },
  {
   "cell_type": "code",
   "execution_count": 235,
   "metadata": {},
   "outputs": [
    {
     "name": "stdout",
     "output_type": "stream",
     "text": [
      "        Facility Revenue\n",
      "0   Table Tennis   180.0\n",
      "1  Snooker Table   240.0\n",
      "2     Pool Table   270.0\n"
     ]
    }
   ],
   "source": [
    "# Q10: Produce a list of facilities with a total revenue less than 1000. The output of facility name and total revenue, \n",
    "# sorted by revenue. Remember that there's a different cost for guests and members!\n",
    "q10_cursor = mydb.cursor()\n",
    "q10_cursor.execute(\"SELECT f.name, SUM(CASE WHEN b.memid >0 THEN b.slots * f.membercost ELSE b.slots * f.guestcost END) AS revenue FROM Facilities as f LEFT JOIN Bookings as b on b.facid = f.facid INNER JOIN Members as m on m.memid = b.memid GROUP BY f.name HAVING revenue < 1000 ORDER BY revenue \")\n",
    "q10_result = q10_cursor.fetchall()\n",
    "q10_df = pd.DataFrame(q10_result, columns = ['Facility', 'Revenue'])\n",
    "print(q10_df)\n"
   ]
  }
 ],
 "metadata": {
  "kernelspec": {
   "display_name": "Python 3",
   "language": "python",
   "name": "python3"
  },
  "language_info": {
   "codemirror_mode": {
    "name": "ipython",
    "version": 3
   },
   "file_extension": ".py",
   "mimetype": "text/x-python",
   "name": "python",
   "nbconvert_exporter": "python",
   "pygments_lexer": "ipython3",
   "version": "3.7.1"
  }
 },
 "nbformat": 4,
 "nbformat_minor": 2
}
