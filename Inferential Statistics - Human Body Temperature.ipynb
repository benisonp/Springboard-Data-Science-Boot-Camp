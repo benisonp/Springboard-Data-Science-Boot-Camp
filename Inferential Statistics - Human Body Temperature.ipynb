{
 "cells": [
  {
   "cell_type": "markdown",
   "metadata": {},
   "source": [
    "# What is the True Normal Human Body Temperature? \n",
    "\n",
    "#### Background\n",
    "\n",
    "The mean normal body temperature was held to be 37$^{\\circ}$C or 98.6$^{\\circ}$F for more than 120 years since it was first conceptualized and reported by Carl Wunderlich in a famous 1868 book. But, is this value statistically correct?"
   ]
  },
  {
   "cell_type": "markdown",
   "metadata": {},
   "source": [
    "<h3>Exercises</h3>\n",
    "\n",
    "<p>In this exercise, you will analyze a dataset of human body temperatures and employ the concepts of hypothesis testing, confidence intervals, and statistical significance.</p>\n",
    "\n",
    "<p>Answer the following questions <b>in this notebook below and submit to your Github account</b>.</p> \n",
    "\n",
    "<ol>\n",
    "<li>  Is the distribution of body temperatures normal? \n",
    "    <ul>\n",
    "    <li> Although this is not a requirement for the Central Limit Theorem to hold (read the introduction on Wikipedia's page about the CLT carefully: https://en.wikipedia.org/wiki/Central_limit_theorem), it gives us some peace of mind that the population may also be normally distributed if we assume that this sample is representative of the population.\n",
    "    <li> Think about the way you're going to check for the normality of the distribution. Graphical methods are usually used first, but there are also other ways: https://en.wikipedia.org/wiki/Normality_test\n",
    "    </ul>\n",
    "<li>  Is the sample size large? Are the observations independent?\n",
    "    <ul>\n",
    "    <li> Remember that this is a condition for the Central Limit Theorem, and hence the statistical tests we are using, to apply.\n",
    "    </ul>\n",
    "<li>  Is the true population mean really 98.6 degrees F?\n",
    "    <ul>\n",
    "    <li> First, try a bootstrap hypothesis test.\n",
    "    <li> Now, let's try frequentist statistical testing. Would you use a one-sample or two-sample test? Why?\n",
    "    <li> In this situation, is it appropriate to use the $t$ or $z$ statistic? \n",
    "    <li> Now try using the other test. How is the result be different? Why?\n",
    "    </ul>\n",
    "<li>  Draw a small sample of size 10 from the data and repeat both frequentist tests. \n",
    "    <ul>\n",
    "    <li> Which one is the correct one to use? \n",
    "    <li> What do you notice? What does this tell you about the difference in application of the $t$ and $z$ statistic?\n",
    "    </ul>\n",
    "<li>  At what temperature should we consider someone's temperature to be \"abnormal\"?\n",
    "    <ul>\n",
    "    <li> As in the previous example, try calculating everything using the boostrap approach, as well as the frequentist approach.\n",
    "    <li> Start by computing the margin of error and confidence interval. When calculating the confidence interval, keep in mind that you should use the appropriate formula for one draw, and not N draws.\n",
    "    </ul>\n",
    "<li>  Is there a significant difference between males and females in normal temperature?\n",
    "    <ul>\n",
    "    <li> What testing approach did you use and why?\n",
    "    <li> Write a story with your conclusion in the context of the original problem.\n",
    "    </ul>\n",
    "</ol>\n",
    "\n",
    "You can include written notes in notebook cells using Markdown: \n",
    "   - In the control panel at the top, choose Cell > Cell Type > Markdown\n",
    "   - Markdown syntax: http://nestacms.com/docs/creating-content/markdown-cheat-sheet\n",
    "\n",
    "#### Resources\n",
    "\n",
    "+ Information and data sources: http://www.amstat.org/publications/jse/datasets/normtemp.txt, http://www.amstat.org/publications/jse/jse_data_archive.htm\n",
    "+ Markdown syntax: http://nestacms.com/docs/creating-content/markdown-cheat-sheet\n",
    "\n",
    "****"
   ]
  },
  {
   "cell_type": "code",
   "execution_count": 134,
   "metadata": {},
   "outputs": [
    {
     "data": {
      "text/html": [
       "<div>\n",
       "<style scoped>\n",
       "    .dataframe tbody tr th:only-of-type {\n",
       "        vertical-align: middle;\n",
       "    }\n",
       "\n",
       "    .dataframe tbody tr th {\n",
       "        vertical-align: top;\n",
       "    }\n",
       "\n",
       "    .dataframe thead th {\n",
       "        text-align: right;\n",
       "    }\n",
       "</style>\n",
       "<table border=\"1\" class=\"dataframe\">\n",
       "  <thead>\n",
       "    <tr style=\"text-align: right;\">\n",
       "      <th></th>\n",
       "      <th>temperature</th>\n",
       "      <th>gender</th>\n",
       "      <th>heart_rate</th>\n",
       "    </tr>\n",
       "  </thead>\n",
       "  <tbody>\n",
       "    <tr>\n",
       "      <th>0</th>\n",
       "      <td>99.3</td>\n",
       "      <td>F</td>\n",
       "      <td>68.0</td>\n",
       "    </tr>\n",
       "    <tr>\n",
       "      <th>1</th>\n",
       "      <td>98.4</td>\n",
       "      <td>F</td>\n",
       "      <td>81.0</td>\n",
       "    </tr>\n",
       "    <tr>\n",
       "      <th>2</th>\n",
       "      <td>97.8</td>\n",
       "      <td>M</td>\n",
       "      <td>73.0</td>\n",
       "    </tr>\n",
       "    <tr>\n",
       "      <th>3</th>\n",
       "      <td>99.2</td>\n",
       "      <td>F</td>\n",
       "      <td>66.0</td>\n",
       "    </tr>\n",
       "    <tr>\n",
       "      <th>4</th>\n",
       "      <td>98.0</td>\n",
       "      <td>F</td>\n",
       "      <td>73.0</td>\n",
       "    </tr>\n",
       "  </tbody>\n",
       "</table>\n",
       "</div>"
      ],
      "text/plain": [
       "   temperature gender  heart_rate\n",
       "0         99.3      F        68.0\n",
       "1         98.4      F        81.0\n",
       "2         97.8      M        73.0\n",
       "3         99.2      F        66.0\n",
       "4         98.0      F        73.0"
      ]
     },
     "execution_count": 134,
     "metadata": {},
     "output_type": "execute_result"
    }
   ],
   "source": [
    "import pandas as pd\n",
    "import matplotlib.pyplot as plt\n",
    "import numpy as np\n",
    "import scipy.stats as stats\n",
    "import random\n",
    "\n",
    "from scipy.stats import shapiro\n",
    "from scipy.stats import normaltest\n",
    "from statsmodels.stats.weightstats import ztest\n",
    "from statsmodels.graphics.gofplots import qqplot\n",
    "\n",
    "df = pd.read_csv('data/human_body_temperature.csv')\n",
    "df.head()"
   ]
  },
  {
   "cell_type": "markdown",
   "metadata": {
    "collapsed": true
   },
   "source": [
    "# 1. Is the distribution of body temperatures normal?"
   ]
  },
  {
   "cell_type": "markdown",
   "metadata": {},
   "source": [
    "There a few ways in which we can evaluate if a given sample distirbution is normal: some of them rely on \n",
    "    graphical representations of the data, while others are statistical evaluations. For the sake of thoroughness,\n",
    "    I will present several methods; if all methods agree, then we can have strong confidence in our conclusions\n",
    "    about the data. "
   ]
  },
  {
   "cell_type": "markdown",
   "metadata": {},
   "source": [
    "## Graphical representation - histogram"
   ]
  },
  {
   "cell_type": "code",
   "execution_count": 27,
   "metadata": {},
   "outputs": [
    {
     "data": {
      "text/plain": [
       "(array([ 4.,  6., 15., 26., 30., 30., 15.,  1.,  2.,  1.]),\n",
       " array([ 96.3 ,  96.75,  97.2 ,  97.65,  98.1 ,  98.55,  99.  ,  99.45,\n",
       "         99.9 , 100.35, 100.8 ]),\n",
       " <a list of 10 Patch objects>)"
      ]
     },
     "execution_count": 27,
     "metadata": {},
     "output_type": "execute_result"
    },
    {
     "data": {
      "image/png": "[encoded data removed]",
      "text/plain": [
       "<Figure size 432x288 with 1 Axes>"
      ]
     },
     "metadata": {
      "needs_background": "light"
     },
     "output_type": "display_data"
    }
   ],
   "source": [
    "plt.hist(df.temperature)"
   ]
  },
  {
   "cell_type": "markdown",
   "metadata": {},
   "source": [
    "Broadly speaking, the shape of the distribution seems to resemble that of a Gaussian distribution, although the \n",
    "upper end of the distribution (especially between 99-100) appears to have some missing values that would make it even more normal-like. "
   ]
  },
  {
   "cell_type": "markdown",
   "metadata": {},
   "source": [
    "## Graphical representation - Q-Q plot"
   ]
  },
  {
   "cell_type": "code",
   "execution_count": 31,
   "metadata": {},
   "outputs": [
    {
     "data": {
      "text/plain": [
       "Text(0.5, 1.0, 'Quantile-Quantile Plot')"
      ]
     },
     "execution_count": 31,
     "metadata": {},
     "output_type": "execute_result"
    },
    {
     "data": {
      "image/png": "[encoded data removed]",
      "text/plain": [
       "<Figure size 432x288 with 1 Axes>"
      ]
     },
     "metadata": {
      "needs_background": "light"
     },
     "output_type": "display_data"
    }
   ],
   "source": [
    "qqplot(df.temperature, line='s')\n",
    "plt.title('Quantile-Quantile Plot')"
   ]
  },
  {
   "cell_type": "markdown",
   "metadata": {},
   "source": [
    "If the data were distributed perfectly Normally, all data points would lie on the red line. As we can see,\n",
    "most of the data actually does adhere closely to the line, except for data near the upper and lower quartiles, which\n",
    "is similar to the situation observed from the histogram representation. These two representations of the data, however,\n",
    "suggest that the data are distributed very close to Normal."
   ]
  },
  {
   "cell_type": "markdown",
   "metadata": {},
   "source": [
    "## Statistical tests\n",
    "### Shapiro-Wilk"
   ]
  },
  {
   "cell_type": "code",
   "execution_count": 133,
   "metadata": {},
   "outputs": [
    {
     "name": "stdout",
     "output_type": "stream",
     "text": [
      "0.233174666762352\n"
     ]
    }
   ],
   "source": [
    "shap_stat, shap_p = shapiro(df.temperature)\n",
    "print(shap_p)"
   ]
  },
  {
   "cell_type": "markdown",
   "metadata": {},
   "source": [
    "As the p-value of the Shapiro-Wilk test is >0.05, we do not reject the null hypothesis. This suggests that the data \n",
    "does not differ significantly from a Gaussian distribution."
   ]
  },
  {
   "cell_type": "markdown",
   "metadata": {},
   "source": [
    "### D’Agostino’s K^2 Test"
   ]
  },
  {
   "cell_type": "code",
   "execution_count": 137,
   "metadata": {},
   "outputs": [
    {
     "name": "stdout",
     "output_type": "stream",
     "text": [
      "0.2587479863488254\n"
     ]
    }
   ],
   "source": [
    "K2_stat, K2_pval = normaltest(df.temperature)\n",
    "print(K2_pval)"
   ]
  },
  {
   "cell_type": "markdown",
   "metadata": {},
   "source": [
    "D'Agostino's K^2 test also suggests that the data does not differ significantly from a Gaussian distribution.\n",
    "\n",
    "Between the graphical as well as statistical tests, we can be reasonably confident that the body temperature data\n",
    "is in fact Gaussian."
   ]
  },
  {
   "cell_type": "markdown",
   "metadata": {},
   "source": [
    "# 2. Is the sample size large? Are the observations independent?"
   ]
  },
  {
   "cell_type": "code",
   "execution_count": 34,
   "metadata": {},
   "outputs": [
    {
     "name": "stdout",
     "output_type": "stream",
     "text": [
      "The sample size is N = 130\n"
     ]
    }
   ],
   "source": [
    "print(\"The sample size is N = {}\".format(len(df.temperature)))"
   ]
  },
  {
   "cell_type": "code",
   "execution_count": 33,
   "metadata": {},
   "outputs": [
    {
     "data": {
      "text/plain": [
       "130"
      ]
     },
     "execution_count": 33,
     "metadata": {},
     "output_type": "execute_result"
    }
   ],
   "source": [
    "len(df.temperature)"
   ]
  },
  {
   "cell_type": "markdown",
   "metadata": {},
   "source": [
    "With a sample size of N=130, the sample size is not large. However, it is 'large enough', if we apply the commonly-\n",
    "used threshold of n >= 30. \n",
    "\n",
    "The observations in this case can be considered independent as they come from different people and there are no\n",
    "known confounding variables between the observations."
   ]
  },
  {
   "cell_type": "markdown",
   "metadata": {},
   "source": [
    "# 3. Is the true population mean really 98.6 degrees F?"
   ]
  },
  {
   "cell_type": "markdown",
   "metadata": {},
   "source": [
    "This question essentially requires us to test against a null hypothesis: that 98.6 degrees F does not differ \n",
    "    significantly from the data. \n",
    "\n",
    "To answer this question, I will first perform a bootstrap hypothesis test. This requires the use of resampling with \n",
    "replacement, which I will do 10,000 times, to generate an array of bootstrap replicate means. This should allow me \n",
    "to generate a distribution of means, from which I can then establish the 95% confidence interval and assess where\n",
    "the value of '98.6' falls. If it falls outside of the 95% confidence interval, then we should reject the null\n",
    "hypothesis, and conclude that the sample mean differs significantly from the population mean. "
   ]
  },
  {
   "cell_type": "markdown",
   "metadata": {},
   "source": [
    "## 3.1 Bootstrap hypothesis test"
   ]
  },
  {
   "cell_type": "code",
   "execution_count": 130,
   "metadata": {},
   "outputs": [
    {
     "name": "stdout",
     "output_type": "stream",
     "text": [
      "The 95% confidence interval of body temperature is: between 98.12382692307692 and 98.37692307692308 degrees Fahrenheit\n"
     ]
    },
    {
     "data": {
      "image/png": "[encoded data removed]",
      "text/plain": [
       "<Figure size 432x288 with 1 Axes>"
      ]
     },
     "metadata": {
      "needs_background": "light"
     },
     "output_type": "display_data"
    }
   ],
   "source": [
    "# Function to be able to calculate metric of interest from a bootstrap replicate\n",
    "def bs_replicate_1d(data, function):\n",
    "    bs_sample = np.random.choice(data, size=len(data)) #Bootstrap replicate, with same size as original sample size\n",
    "    return function(bs_sample)\n",
    "\n",
    "# Function to generate an array of bootstrap means\n",
    "def bs_reps(data, function, size=1):\n",
    "    \"\"\"Draw bootstrap replicates\"\"\"\n",
    "    # Initialize empty array\n",
    "    bs_replicates = np.empty(size)\n",
    "    #Generate replicates\n",
    "    for i in range(size):\n",
    "        bs_replicates[i] = bs_replicate_1d(data, function)\n",
    "    return bs_replicates\n",
    "\n",
    "# Histogram of results from all replicates\n",
    "bs_replicates = bs_reps(df.temperature, np.mean, size=10000) #Array of means of the bootstrap replicates\n",
    "plt.hist(bs_replicates, density=True)\n",
    "plt.axvline(x=98.6) #Draw a vertical line at 98.6 degrees\n",
    "plt.xlabel(\"Body Temperature in degrees Fahrenheit\")\n",
    "\n",
    "conf_int = np.percentile(bs_replicates, [2.5, 97.5])\n",
    "print(\"The 95% confidence interval of body temperature is: between {} and {} degrees Fahrenheit\".format(conf_int[0], \n",
    "                                                                                                        conf_int[1]))"
   ]
  },
  {
   "cell_type": "markdown",
   "metadata": {},
   "source": [
    "In this situation, we are essentially testing against a null hypothesis, where the null hypothesis is : \n",
    "    the mean of the sample data does not differ significantly from 98.6 degrees Fahrenheit. What we find is that \n",
    "    98.6 degrees Fahrenheit actually differs significantly from the data, as it falls outside the \n",
    "    standard threshold of the 95% confidence interval of the distribution achieved through bootstrapping. Visually,\n",
    "    we can see from the figure that the distribution of the sample data falls almost entirely below the 98.6 degree\n",
    "    mark, which supports the conclusion.\n",
    "    \n",
    "As such, we reject the null hypothesis, which leads us to conclude that the data instead supports the alternate\n",
    "hypothesis: that the the sample mean differs significantly from 98.6 degrees F."
   ]
  },
  {
   "cell_type": "markdown",
   "metadata": {},
   "source": [
    "## 3.2 Frequentist statistics - One sample or two sample? T or z statistic?"
   ]
  },
  {
   "cell_type": "markdown",
   "metadata": {},
   "source": [
    "The first step in thinking about what frequentist test to use is to understand whether we should use a one-sample\n",
    "or two-sample test. Here, we only have one sample, which we are comparing against a known value (the population mean),\n",
    "and as such we should be using a one-sample test. \n",
    "\n",
    "The question is, is the t-statistic or z-statistic more appropriate? In this case, we have a single large sample, but \n",
    "we do not know the true population standard deviation. This ignorance of the true standard deviation suggests then\n",
    "that we should be using the t-statistic instead.\n",
    "\n",
    "For the sake of completeness, however, let's do both and see what happens. The null hypothesis is the same in both\n",
    "cases: that the sample mean does not differ significantly from the population mean of 98.6 degrees F. "
   ]
  },
  {
   "cell_type": "code",
   "execution_count": 132,
   "metadata": {},
   "outputs": [
    {
     "name": "stdout",
     "output_type": "stream",
     "text": [
      "The p-value from the t-test is 0.000\n",
      "The p-value from the z-test is 0.000\n"
     ]
    }
   ],
   "source": [
    "# Perform a one sample t-test\n",
    "tstat, t_pval = stats.ttest_1samp(df.temperature, 98.6)\n",
    "# Trying a z test insted: how do the results differ?\n",
    "zstat, z_pval = ztest(df.temperature, value=98.6)\n",
    "\n",
    "print(\"The p-value from the t-test is %.3f\\nThe p-value from the z-test is %.3f\" %(t_pval, z_pval))"
   ]
  },
  {
   "cell_type": "markdown",
   "metadata": {},
   "source": [
    "As we can see, both tests return the same result of a vanishingly small p-value, suggesting that the \n",
    "difference between the population mean and sample mean is extremely unlikely to be obtained by chance, and that we \n",
    "should reject the null hypothesis. In other words, **it is very likely that the sample mean is significantly different\n",
    "from 98.6 degrees F**, similar to the result we obtained from bootstrapping."
   ]
  },
  {
   "cell_type": "markdown",
   "metadata": {},
   "source": [
    "# 4. Draw a small sample of size 10 from the data and repeat both frequentist tests."
   ]
  },
  {
   "cell_type": "markdown",
   "metadata": {},
   "source": [
    "As before, we do not know the population standard deviation, which suggests that we should be using the t-statistic. \n",
    "In addition, the sample size is now considered 'small' (<30), which is even more evidence that the t-statistic should\n",
    "be used."
   ]
  },
  {
   "cell_type": "code",
   "execution_count": 131,
   "metadata": {},
   "outputs": [
    {
     "name": "stdout",
     "output_type": "stream",
     "text": [
      "The p-value from the t-test is 0.013\n",
      "The p-value from the z-test is 0.013\n"
     ]
    }
   ],
   "source": [
    "np.random.seed(42) # Set random seed for reproducibility\n",
    "temp_10 = np.random.choice(df.temperature, size=10) #Draw sample of size 10, without replacement\n",
    "\n",
    "tstat_10, t_pval_10 = stats.ttest_1samp(temp_10, 98.6)\n",
    "zstat_10, z_pval_10 = stats.ttest_1samp(temp_10, 98.6)\n",
    "print(\"The p-value from the t-test is %.3f\\nThe p-value from the z-test is %.3f\" %(t_pval_10, z_pval_10))"
   ]
  },
  {
   "cell_type": "markdown",
   "metadata": {},
   "source": [
    "We can see that the p-values are identical across both tests. This suggests that when it comes to small sample sizes,\n",
    "when we do not know the true population standard deviation, that either test may be applied."
   ]
  },
  {
   "cell_type": "markdown",
   "metadata": {},
   "source": [
    "# 5. At what temperature should we consider someone's temperature to be \"abnormal\"?"
   ]
  },
  {
   "cell_type": "markdown",
   "metadata": {},
   "source": [
    "The answer to this question lies in the distribution of the data. The convention seems to be that any data points\n",
    "that fall outside of 2 standard deviations from the mean (for normally distributed) data, can be considered 'abnormal'. \n",
    "Another way to say this is that the 95% confidence interval of the data would define what we consider 'normal'.\n",
    "\n",
    "To answer this question, we can use a bootstrapping approach or a standard frequentist approach.\n",
    "\n",
    "## Bootstrapping approach"
   ]
  },
  {
   "cell_type": "code",
   "execution_count": 145,
   "metadata": {},
   "outputs": [
    {
     "name": "stdout",
     "output_type": "stream",
     "text": [
      "The 95% confidence interval of body temperature is: between 98.11923076923077 and 98.37153846153845 degrees F.\n"
     ]
    }
   ],
   "source": [
    "bs_replicates = bs_reps(df.temperature, np.mean, size=10000) #Array of means of the bootstrap replicates\n",
    "conf_int_temp = np.percentile(bs_replicates, [2.5, 97.5])\n",
    "print(\"The 95% confidence interval of body temperature is: between {} and {} degrees F.\".format(conf_int_temp[0], \n",
    "                                                                                                        conf_int_temp[1]))"
   ]
  },
  {
   "cell_type": "markdown",
   "metadata": {},
   "source": [
    "Based on the 95% confidence interval derived from the bootstrapping approach, any temperature above 98.4 or below\n",
    "98.1 degrees Fahrenheit can be considered abnormal."
   ]
  },
  {
   "cell_type": "markdown",
   "metadata": {},
   "source": [
    "## Frequentist approach"
   ]
  },
  {
   "cell_type": "code",
   "execution_count": 148,
   "metadata": {},
   "outputs": [
    {
     "name": "stdout",
     "output_type": "stream",
     "text": [
      "[96.7225 99.4775]\n"
     ]
    }
   ],
   "source": [
    "conf_int_95 = np.percentile(df.temperature, [2.5, 97.5])\n",
    "print(conf_int_95)"
   ]
  },
  {
   "cell_type": "markdown",
   "metadata": {},
   "source": [
    "Based on the 95% confidence interval, a body temperature below 96.7 or above 99.5 degrees F should be considered abnormal. "
   ]
  },
  {
   "cell_type": "markdown",
   "metadata": {},
   "source": [
    "# 6. Is there a significant difference between males and females in normal temperature?"
   ]
  },
  {
   "cell_type": "markdown",
   "metadata": {},
   "source": [
    "With this question, we are essentially testing against the null hypothesis that there is no significant difference in \n",
    "means between male and female body temperature. To answer this question, we will need to do the following:\n",
    "\n",
    "- Calculate the actual difference in means between males and females\n",
    "- Draw 10,000 bootstrap replicates of mean male body temperatures and mean female body temperatures\n",
    "- Calculate the difference between the two arrays, generating a single array of differences in means\n",
    "- Compare the distribution of bootstrap differences in means to the actual difference in means to assess what proportion\n",
    "    of bootstrap differences in means fall above or below the actual difference"
   ]
  },
  {
   "cell_type": "code",
   "execution_count": 120,
   "metadata": {},
   "outputs": [
    {
     "name": "stdout",
     "output_type": "stream",
     "text": [
      "The difference in body temperature between males and females is -0.289230769230727 degrees F\n"
     ]
    }
   ],
   "source": [
    "#Empirical difference between males and females\n",
    "mean_sex_diff = np.mean(male_temps) - np.mean(female_temps)\n",
    "\n",
    "#Shifted arrays for males and females, because the null hypothesis is that the mean is similar\n",
    "male_temps = df[df.gender=='M'].temperature\n",
    "male_temps_shifted = male_temps - np.mean(male_temps) + mean_temp\n",
    "female_temps = df[df.gender=='F'].temperature\n",
    "female_temps_shifted = female_temps - np.mean(female_temps) + mean_temp\n",
    "\n",
    "# Bootstrap replicates for males and females\n",
    "bs_males = bs_reps(male_temps_shifted, np.mean, 10000)\n",
    "bs_females = bs_reps(female_temps_shifted, np.mean, 10000)\n",
    "bs_diff = bs_males - bs_females\n",
    "\n",
    "print(\"The difference in body temperature between males and females is {} degrees F\".format(mean_sex_diff))"
   ]
  },
  {
   "cell_type": "code",
   "execution_count": 123,
   "metadata": {},
   "outputs": [
    {
     "data": {
      "text/plain": [
       "Text(0.5, 0, 'Difference in mean body temperature between males and females')"
      ]
     },
     "execution_count": 123,
     "metadata": {},
     "output_type": "execute_result"
    },
    {
     "data": {
      "image/png": "[encoded data removed]",
      "text/plain": [
       "<Figure size 432x288 with 1 Axes>"
      ]
     },
     "metadata": {
      "needs_background": "light"
     },
     "output_type": "display_data"
    }
   ],
   "source": [
    "# Plotting the distribution of mean differences\n",
    "plt.hist(bs_diff, density=True)\n",
    "plt.axvline(x=-0.289230769230727) #Draw a vertical line at 98.6 degrees\n",
    "plt.xlabel(\"Difference in mean body temperature between males and females\")"
   ]
  },
  {
   "cell_type": "markdown",
   "metadata": {},
   "source": [
    "From the histogram, we can see that the empirical mean difference falls to the left; as such, we should ask what \n",
    "proportion of the bootstrap mean differences are lower than the empirical mean. "
   ]
  },
  {
   "cell_type": "code",
   "execution_count": 125,
   "metadata": {},
   "outputs": [
    {
     "name": "stdout",
     "output_type": "stream",
     "text": [
      "The p-value is 0.011\n"
     ]
    }
   ],
   "source": [
    "# Calculating the p value\n",
    "pval = np.sum(bs_diff < mean_sex_diff)/10000\n",
    "print(\"The p-value is {}\".format(pval))"
   ]
  },
  {
   "cell_type": "markdown",
   "metadata": {},
   "source": [
    "# Conclusion"
   ]
  },
  {
   "cell_type": "code",
   "execution_count": null,
   "metadata": {},
   "outputs": [],
   "source": [
    "It appears that there is a statistically significant difference between male and female body temperature, based on the \n",
    "fact that the p-value falls below the commonly accepted threshold of 0.05. \n",
    "\n",
    "Although the data is normal and thus allows us to perform parametric statistical tests, I ultimately adopted a bootstrapping\n",
    "approach primarily becaue I find it significantly more intuitively in terms of understanding what a p-value means. When\n",
    "comparing males and females, we find that our empirical difference in means is extremely unlikely to occur under the \n",
    "null hypothesis; as such, it is fair to conclude that a statistically significant difference exists."
   ]
  },
  {
   "cell_type": "code",
   "execution_count": null,
   "metadata": {},
   "outputs": [],
   "source": []
  }
 ],
 "metadata": {
  "kernelspec": {
   "display_name": "Python 3",
   "language": "python",
   "name": "python3"
  },
  "language_info": {
   "codemirror_mode": {
    "name": "ipython",
    "version": 3
   },
   "file_extension": ".py",
   "mimetype": "text/x-python",
   "name": "python",
   "nbconvert_exporter": "python",
   "pygments_lexer": "ipython3",
   "version": "3.7.1"
  }
 },
 "nbformat": 4,
 "nbformat_minor": 1
}
